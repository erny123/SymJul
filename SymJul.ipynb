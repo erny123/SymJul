{
 "cells": [
  {
   "cell_type": "code",
   "execution_count": 389,
   "id": "a3651f1c-1608-4a93-95ef-2e9ba7109730",
   "metadata": {},
   "outputs": [
    {
     "data": {
      "text/plain": [
       "v\"1.11.3\""
      ]
     },
     "execution_count": 389,
     "metadata": {},
     "output_type": "execute_result"
    }
   ],
   "source": [
    "VERSION"
   ]
  },
  {
   "cell_type": "code",
   "execution_count": 390,
   "id": "3b792558-0a1b-4507-8dda-8213e30b5f34",
   "metadata": {},
   "outputs": [
    {
     "name": "stderr",
     "output_type": "stream",
     "text": [
      "\u001b[32m\u001b[1m  Activating\u001b[22m\u001b[39m project at `~/ADMS/ADMS`\n"
     ]
    }
   ],
   "source": [
    "] activate ."
   ]
  },
  {
   "cell_type": "code",
   "execution_count": 391,
   "id": "65c0b881-a989-4e96-835b-285943d5c1f3",
   "metadata": {},
   "outputs": [],
   "source": [
    "# ] add SymbolicUtils Latexify LaTeXStrings"
   ]
  },
  {
   "cell_type": "code",
   "execution_count": 392,
   "id": "0bd72f8b-290f-4c1c-9338-e524ce77f964",
   "metadata": {},
   "outputs": [],
   "source": [
    "using SymbolicUtils\n",
    "using SymbolicUtils: Term, Add, Mul, Pow, Div\n",
    "using Latexify\n",
    "using Latexify: _latexraw\n",
    "using LaTeXStrings"
   ]
  },
  {
   "cell_type": "markdown",
   "id": "c9a5e65c-6060-4d40-80b6-096992ef63c2",
   "metadata": {},
   "source": [
    "# Creating Symbolic variables and functions"
   ]
  },
  {
   "cell_type": "code",
   "execution_count": 393,
   "id": "403ccbbe-8dbf-4142-b3f7-3b645ca6c5b3",
   "metadata": {},
   "outputs": [
    {
     "data": {
      "text/plain": [
       "StringtoLatex (generic function with 2 methods)"
      ]
     },
     "execution_count": 393,
     "metadata": {},
     "output_type": "execute_result"
    }
   ],
   "source": [
    "function StringtoLatex(x; kwargs...)\n",
    "    # A simple fallback: convert the symbolic object to a string,\n",
    "    # then escape it for LaTeX.\n",
    "    str = string(x)\n",
    "    if length(kwargs) == 1\n",
    "        for rep in kwargs[1]\n",
    "            str = replace(str, rep)\n",
    "        end\n",
    "    end\n",
    "    return str\n",
    "end"
   ]
  },
  {
   "cell_type": "code",
   "execution_count": 394,
   "id": "692abb4b-d882-43bd-bbd2-ca9017de9297",
   "metadata": {},
   "outputs": [
    {
     "data": {
      "text/plain": [
       "DisplayLatex (generic function with 1 method)"
      ]
     },
     "execution_count": 394,
     "metadata": {},
     "output_type": "execute_result"
    }
   ],
   "source": [
    "function DisplayLatex(x::SymbolicUtils.BasicSymbolic; kwargs...)\n",
    "    # A simple fallback: convert the symbolic object to a string,\n",
    "    # then escape it for LaTeX.\n",
    "    return latexify(string(x))\n",
    "end"
   ]
  },
  {
   "cell_type": "code",
   "execution_count": 395,
   "id": "bbd9d95b-697e-4161-a4b3-26724db9015e",
   "metadata": {},
   "outputs": [
    {
     "data": {
      "text/plain": [
       "parse_derivative_string (generic function with 1 method)"
      ]
     },
     "execution_count": 395,
     "metadata": {},
     "output_type": "execute_result"
    }
   ],
   "source": [
    "function parse_derivative_string(s::String)\n",
    "    m = match(r\"^D\\(\\s*(.+)\\s*,\\s*(.+)\\s*,\\s*(\\d+)\\s*\\)$\", s)\n",
    "    if m === nothing\n",
    "        error(\"Input string does not match the expected pattern: D(expr, var, order)\")\n",
    "    end\n",
    "    expr_str = m.captures[1]\n",
    "    var_str = m.captures[2]\n",
    "    order_str = m.captures[3]\n",
    "    return expr_str, var_str, order_str\n",
    "end"
   ]
  },
  {
   "cell_type": "code",
   "execution_count": 396,
   "id": "1042e5aa-69aa-42d5-b53f-0511d4b5e655",
   "metadata": {},
   "outputs": [
    {
     "data": {
      "text/plain": [
       "PartialDstr (generic function with 1 method)"
      ]
     },
     "execution_count": 396,
     "metadata": {},
     "output_type": "execute_result"
    }
   ],
   "source": [
    "function PartialDstr(der)\n",
    "    println(der)\n",
    "    args, dvar, order = parse_derivative_string(der)\n",
    "    dorder = parse(Float32,order)\n",
    "    if dorder == 0\n",
    "        return der\n",
    "    elseif dorder == 1.0\n",
    "        return string( \"\\\\frac{\\\\partial}{\\\\partial \", dvar,\"} \", \"\\\\left(\", args,\"\\\\right)\")\n",
    "    elseif isinteger(dorder)\n",
    "        return string( \"\\\\frac{\\\\partial^{\", string(Int(dorder)), \"}}{\\\\partial \", dvar,\"} \", \"\\\\left(\", args,\"\\\\right)\")\n",
    "    else\n",
    "        return string( \"\\\\frac{\\\\partial^{\", order, \"}}{\\\\partial \", dvar,\"} \", \"\\\\left(\", args,\"\\\\right)\")\n",
    "    end\n",
    "\n",
    "end"
   ]
  },
  {
   "cell_type": "markdown",
   "id": "e45e418a-6e49-405e-b783-3a1e59d65b89",
   "metadata": {},
   "source": [
    "# Differentiation"
   ]
  },
  {
   "cell_type": "markdown",
   "id": "fa563f84-87ab-43b8-9c0f-fac13ddc59b9",
   "metadata": {},
   "source": [
    "Below is the function `Diff` and `differentiate` for symbolic differentiation with helper functions. \n",
    "\n",
    "The unevaluated derivative is expressed with the symbolic function `D(..,..,..)` where the 1st argument is the expression to differentiate, the second is the variable of differentiation, and the third is the order. "
   ]
  },
  {
   "cell_type": "code",
   "execution_count": 398,
   "id": "665502df-7da6-4829-9782-32588c31b726",
   "metadata": {},
   "outputs": [
    {
     "data": {
      "text/plain": [
       "Diff (generic function with 1 method)"
      ]
     },
     "execution_count": 398,
     "metadata": {},
     "output_type": "execute_result"
    }
   ],
   "source": [
    "# Declare our unevaluated derivative operator D as a symbolic function.\n",
    "@syms D(.., .., ..)\n",
    "\n",
    "#####################\n",
    "# Helper Functions: #\n",
    "#####################\n",
    "\n",
    "function sym_equiv(a, b)\n",
    "    # Check direct equality first.\n",
    "    if Set([a]) == Set([b])\n",
    "        return true\n",
    "    end\n",
    "    # If both are terms (i.e. composite expressions), compare their heads and their arguments.\n",
    "    if SymbolicUtils.isterm(a) && SymbolicUtils.isterm(b)\n",
    "        if hasproperty(a, :f) && hasproperty(b, :f) && Set([a.f]) == Set([b.f])\n",
    "            if length(a.arguments) == length(b.arguments)\n",
    "                return all(i -> sym_equiv(a.arguments[i], b.arguments[i]), 1:length(a.arguments))\n",
    "            end\n",
    "        end\n",
    "    end\n",
    "    return false\n",
    "end\n",
    "\n",
    "function sym_occurs_in(expr, a)\n",
    "    if Set([expr]) == Set([a])\n",
    "        return true\n",
    "    end\n",
    "    if expr isa Number\n",
    "        return false\n",
    "    end\n",
    "    if hasproperty(expr, :arguments)\n",
    "        if hasproperty(expr, :f) && expr.f == a\n",
    "            return true\n",
    "        end\n",
    "        return any(arg -> sym_occurs_in(arg, a), expr.arguments)\n",
    "    end\n",
    "    return false\n",
    "end\n",
    "\n",
    "function target_occurs_in(a, var)\n",
    "    if sym_equiv(a, var)\n",
    "        return true\n",
    "    end\n",
    "    if SymbolicUtils.isterm(var) && (SymbolicUtils.symtype(var.f) <: SymbolicUtils.FnType)\n",
    "        return SymbolicUtils.isterm(a) && hasproperty(a, :f) && (Set([a.f]) == Set([var.f]))\n",
    "    else\n",
    "        return sym_occurs_in(a, var)\n",
    "    end\n",
    "end\n",
    "\n",
    "function is_symbolic_entity(x)\n",
    "    if x isa SymbolicUtils.BasicSymbolic\n",
    "        return true\n",
    "    end\n",
    "    if SymbolicUtils.isterm(x) && (SymbolicUtils.symtype(x) <: SymbolicUtils.FnType)\n",
    "        return true\n",
    "    end\n",
    "    return false\n",
    "end\n",
    "\n",
    "function contains_symbolic_entity(x)\n",
    "    if is_symbolic_entity(x)\n",
    "        return true\n",
    "    elseif x isa Number\n",
    "        return false\n",
    "    elseif x isa AbstractArray || x isa Tuple\n",
    "        return any(contains_symbolic_entity, x)\n",
    "    else\n",
    "        return false\n",
    "    end\n",
    "end\n",
    "\n",
    "function symbolic_promote(x, var)\n",
    "    return x isa Number ? x * one(var) : x\n",
    "end\n",
    "\n",
    "# Helper: Check if expr is a D-term (i.e. a call to D).\n",
    "function is_d_term(expr)\n",
    "    return SymbolicUtils.isterm(expr) && (expr.f == D) #(Set([expr.f]) == Set([D]))\n",
    "end\n",
    "\n",
    "#############################\n",
    "# differentiate (Core)      #\n",
    "#############################\n",
    "\n",
    "\"\"\"\n",
    "    differentiate(expr, var)\n",
    "\n",
    "Differentiates the symbolic expression `expr` with respect to `var`.\n",
    "Handles arithmetic operations, common functions, and unknown symbolic functions.\n",
    "Also, if `expr` is an unevaluated derivative (i.e. a D-term), it increments the derivative order.\n",
    "\"\"\"\n",
    "function differentiate(expr, var)\n",
    "    if !(is_symbolic_entity(expr) || expr isa Number)\n",
    "    error(\"First input argument $(expr) is not symbolic.\")\n",
    "    end\n",
    "    if !(is_symbolic_entity(var) || var isa Number)\n",
    "        error(\"Second input argument $(var) is not symbolic.\")\n",
    "    end\n",
    "\n",
    "    # If expr is a number or var does not occur in expr, derivative is 0.\n",
    "    if expr isa Number || !sym_occurs_in(expr, var)\n",
    "        return symbolic_promote(0, var)\n",
    "    # If expr is (symbolically) equivalent to var, return 1.\n",
    "    elseif sym_equiv(expr, var)\n",
    "        return one(expr)\n",
    "    end\n",
    "\n",
    "    # NEW: If expr is a D-term, update its derivative order.\n",
    "    # if is_d_term(expr)\n",
    "    #     # expr is of the form D(u, v, n)\n",
    "    #     u = expr.arguments[1]\n",
    "    #     v = expr.arguments[2]\n",
    "    #     n = expr.arguments[3]\n",
    "    #     if sym_equiv(v, var)\n",
    "    #         # Increase derivative order.\n",
    "    #         return D(u, v, n + 1)\n",
    "    #     else\n",
    "    #         # Otherwise, apply the chain rule.\n",
    "    #         return D(expr, u, 1) * differentiate(u, var)\n",
    "    #     end\n",
    "    # end\n",
    "    # NEW: D-term branch (for our unevaluated derivative operator D(expr, var, n))\n",
    "    if is_d_term(expr)\n",
    "        # expr is of the form D(u, v, n)\n",
    "        # println(\"has D:\")\n",
    "        # println(expr)\n",
    "        u = expr.arguments[1]\n",
    "        v = expr.arguments[2]\n",
    "        n = expr.arguments[3]\n",
    "        if sym_equiv(v, var)\n",
    "             return D(u, v, n + 1)\n",
    "        elseif sym_occurs_in(v, var)\n",
    "             return D(u, v, n + 1) * differentiate(v, var)\n",
    "        else\n",
    "             return symbolic_promote(0, var)\n",
    "        end\n",
    "    end\n",
    "\n",
    "\n",
    "    # Addition\n",
    "    if SymbolicUtils.isadd(expr)\n",
    "        new_args = map(arg -> differentiate(arg, var), expr.arguments)\n",
    "        new_args = map(x -> symbolic_promote(x, var), new_args)\n",
    "        return reduce(+, new_args)\n",
    "    # Multiplication (Product Rule)\n",
    "    elseif SymbolicUtils.ismul(expr)\n",
    "        args = expr.arguments\n",
    "        terms = []\n",
    "        for (i, arg) in enumerate(args)\n",
    "            d_arg = differentiate(arg, var)\n",
    "            prod = one(arg)\n",
    "            for (j, other) in enumerate(args)\n",
    "                if i != j\n",
    "                    prod *= other\n",
    "                end\n",
    "            end\n",
    "            push!(terms, d_arg * prod)\n",
    "        end\n",
    "        terms = map(t -> symbolic_promote(t, var), terms)\n",
    "        return reduce(+, terms)\n",
    "    # Exponentiation\n",
    "    elseif SymbolicUtils.ispow(expr)\n",
    "        base, exponent = expr.arguments\n",
    "        if exponent isa Number\n",
    "            return symbolic_promote(exponent, var) *\n",
    "                   differentiate(base, var) *\n",
    "                   SymbolicUtils.pow(base, exponent - 1)\n",
    "        else\n",
    "            return expr * (differentiate(exponent, var) * SymbolicUtils.log(base) +\n",
    "                           exponent * differentiate(base, var) / base)\n",
    "        end\n",
    "    # Division\n",
    "    elseif SymbolicUtils.isdiv(expr)\n",
    "        num, den = expr.arguments\n",
    "        return (differentiate(num, var) * den - num * differentiate(den, var)) /\n",
    "               SymbolicUtils.pow(den, 2)\n",
    "    # Known common functions: sin, cos, tan, exp, log.\n",
    "    elseif SymbolicUtils.isterm(expr) &&\n",
    "           length(expr.arguments) == 1 &&\n",
    "           (expr.f in (sin, cos, tan, exp, log))\n",
    "        u = expr.arguments[1]\n",
    "        du = differentiate(u, var)\n",
    "        if expr.f == sin\n",
    "            return SymbolicUtils.cos(u) * du\n",
    "        elseif expr.f == cos\n",
    "            return -SymbolicUtils.sin(u) * du\n",
    "        elseif expr.f == tan\n",
    "            return du / SymbolicUtils.pow(SymbolicUtils.cos(u), 2)\n",
    "        elseif expr.f == exp\n",
    "            return SymbolicUtils.exp(u) * du\n",
    "        elseif expr.f == log\n",
    "            return du / u\n",
    "        else\n",
    "            error(\"Unhandled function: $(expr.f)\")\n",
    "        end\n",
    "    # Square root: sqrt(u)\n",
    "    elseif SymbolicUtils.isterm(expr) &&\n",
    "           length(expr.arguments) == 1 &&\n",
    "           expr.f == sqrt\n",
    "        u = expr.arguments[1]\n",
    "        du = differentiate(u, var)\n",
    "        return du / (2 * SymbolicUtils.sqrt(u))\n",
    "    # Inverse trigonometric/hyperbolic functions.\n",
    "    elseif SymbolicUtils.isterm(expr) &&\n",
    "           length(expr.arguments) == 1 &&\n",
    "           (expr.f in (asin, acos, atan, sinh, cosh, tanh, asinh, acosh, atanh))\n",
    "        u = expr.arguments[1]\n",
    "        du = differentiate(u, var)\n",
    "        if expr.f == asin\n",
    "            return du / SymbolicUtils.sqrt(1 - SymbolicUtils.pow(u, 2))\n",
    "        elseif expr.f == acos\n",
    "            return -du / SymbolicUtils.sqrt(1 - SymbolicUtils.pow(u, 2))\n",
    "        elseif expr.f == atan\n",
    "            return du / (1 + SymbolicUtils.pow(u, 2))\n",
    "        elseif expr.f == sinh\n",
    "            return SymbolicUtils.cosh(u) * du\n",
    "        elseif expr.f == cosh\n",
    "            return SymbolicUtils.sinh(u) * du\n",
    "        elseif expr.f == tanh\n",
    "            return du / SymbolicUtils.pow(SymbolicUtils.cosh(u), 2)\n",
    "        elseif expr.f == asinh\n",
    "            return du / SymbolicUtils.sqrt(1 + SymbolicUtils.pow(u, 2))\n",
    "        elseif expr.f == acosh\n",
    "            return du / SymbolicUtils.sqrt(SymbolicUtils.pow(u, 2) - 1)\n",
    "        elseif expr.f == atanh\n",
    "            return du / (1 - SymbolicUtils.pow(u, 2))\n",
    "        else\n",
    "            error(\"Unhandled function: $(expr.f)\")\n",
    "        end\n",
    "    # Unknown symbolic functions (created via @syms)\n",
    "    elseif SymbolicUtils.isterm(expr) && length(expr.arguments) >= 1 &&\n",
    "           (SymbolicUtils.symtype(expr.f) <: SymbolicUtils.FnType)\n",
    "        idx = findfirst(a -> target_occurs_in(a, var), expr.arguments)\n",
    "        if idx === nothing\n",
    "            return symbolic_promote(0, var)\n",
    "        else\n",
    "            u = expr.arguments[idx]\n",
    "            return D(expr, u, 1) * differentiate(u, var)\n",
    "        end\n",
    "    # Otherwise, atomic variable: return 1 if equal to var, else 0.\n",
    "    else\n",
    "        return Set([expr]) == Set([var]) ? one(expr) : symbolic_promote(0, var)\n",
    "    end\n",
    "end\n",
    "\n",
    "##############################\n",
    "# Diff (High-Level Function) #\n",
    "##############################\n",
    "\n",
    "\n",
    "function process_dv(e, dv)\n",
    "    if dv isa AbstractVector\n",
    "        # println(\"process_dv: dv\")\n",
    "        # println(dv)\n",
    "        # println(\"length(dv): \",length(dv))\n",
    "        # println(\"dv[2] isa Integer: \",dv[2] isa Integer)\n",
    "        if length(dv) == 2 && dv[2] isa Integer\n",
    "            dvar = dv[1]\n",
    "            n = dv[2]\n",
    "            res = e\n",
    "            # println(\"res: \",res)\n",
    "            for i in 1:n\n",
    "                res = differentiate(res, dvar)\n",
    "                # println(\"d$(n)/d$(dvar) = \",res)\n",
    "                res = simplify(res)\n",
    "            end\n",
    "            return res\n",
    "        else\n",
    "            error(\"Invalid vector format. Expected [dvar, n] with n an integer.\")\n",
    "        end\n",
    "    else\n",
    "        return differentiate(e, dv)\n",
    "    end\n",
    "end\n",
    "\n",
    "function Diff(expr, dvars...)\n",
    "    if !contains_symbolic_entity(expr)\n",
    "        error(\"Expected first argument expr to contain a SymbolicUtils entity.\")\n",
    "    end\n",
    "    if !contains_symbolic_entity(dvars)\n",
    "        error(\"Expected differentiation variables to contain a SymbolicUtils entity.\")\n",
    "    end\n",
    "    if length(dvars) == 0\n",
    "        return expr\n",
    "    end\n",
    "    res = expr\n",
    "    if length(dvars) == 1\n",
    "        res = process_dv(res, dvars[1])\n",
    "    else\n",
    "        for dv in dvars\n",
    "            res = process_dv(res, dv)\n",
    "        end\n",
    "    end\n",
    "    return res\n",
    "end\n"
   ]
  },
  {
   "cell_type": "markdown",
   "id": "246638db-19ba-44c9-a7ff-24c67487a2f1",
   "metadata": {},
   "source": [
    "## Basic Functions"
   ]
  },
  {
   "cell_type": "code",
   "execution_count": 399,
   "id": "6d5dd5df-a8cd-410d-8e48-3a98b4e565f2",
   "metadata": {},
   "outputs": [
    {
     "data": {
      "text/plain": [
       "19-element Vector{SymbolicUtils.BasicSymbolic{Number}}:\n",
       " x\n",
       " x^2\n",
       " x*y\n",
       " x / y\n",
       " sqrt(x)\n",
       " exp(x)\n",
       " log(x)\n",
       " cos(x)\n",
       " sin(x)\n",
       " tan(x)\n",
       " acos(x)\n",
       " asin(x)\n",
       " atan(x)\n",
       " cosh(x)\n",
       " sinh(x)\n",
       " tanh(x)\n",
       " acosh(x)\n",
       " asinh(x)\n",
       " atanh(x)"
      ]
     },
     "execution_count": 399,
     "metadata": {},
     "output_type": "execute_result"
    }
   ],
   "source": [
    "basicfuncs = [x, x^2, x*y, x/y, sqrt(x),exp(x), log(x), cos(x), sin(x), tan(x), acos(x), asin(x), atan(x), cosh(x), sinh(x), tanh(x), acosh(x), asinh(x), atanh(x)]"
   ]
  },
  {
   "cell_type": "code",
   "execution_count": 400,
   "id": "d01e5644-acc4-4f0c-bdf2-40c3a24ccaa3",
   "metadata": {},
   "outputs": [
    {
     "name": "stdout",
     "output_type": "stream",
     "text": [
      "x^2"
     ]
    }
   ],
   "source": [
    "print(string(x^2))"
   ]
  },
  {
   "cell_type": "code",
   "execution_count": 401,
   "id": "4f2da68f-3785-4907-b5e4-c3a591ab2ad0",
   "metadata": {},
   "outputs": [
    {
     "data": {
      "text/latex": [
       "$x^2$"
      ],
      "text/plain": [
       "L\"$x^2$\""
      ]
     },
     "execution_count": 401,
     "metadata": {},
     "output_type": "execute_result"
    }
   ],
   "source": [
    "latexstring(string(x^2))"
   ]
  },
  {
   "cell_type": "code",
   "execution_count": 402,
   "id": "0d911969-a7a9-4d8e-863a-e9bd0b3791f7",
   "metadata": {},
   "outputs": [
    {
     "data": {
      "text/plain": [
       "13-element Vector{Pair{Regex, Function}}:\n",
       "                             r\"exp\\((.*?)\\)\" => var\"#242#255\"()\n",
       "                             r\"exp\\((.*?)\\)\" => var\"#243#256\"()\n",
       " r\"^D\\(\\s*(.+)\\s*,\\s*(.+)\\s*,\\s*(\\d+)\\s*\\)$\" => var\"#244#257\"()\n",
       "                            r\"sqrt\\((.*?)\\)\" => var\"#245#258\"()\n",
       "                             r\"cos\\((.*?)\\)\" => var\"#246#259\"()\n",
       "                             r\"sin\\((.*?)\\)\" => var\"#247#260\"()\n",
       "                             r\"tan\\((.*?)\\)\" => var\"#248#261\"()\n",
       "                            r\"acos\\((.*?)\\)\" => var\"#249#262\"()\n",
       "                            r\"asin\\((.*?)\\)\" => var\"#250#263\"()\n",
       "                            r\"atan\\((.*?)\\)\" => var\"#251#264\"()\n",
       "                            r\"cosh\\((.*?)\\)\" => var\"#252#265\"()\n",
       "                            r\"sinh\\((.*?)\\)\" => var\"#253#266\"()\n",
       "                            r\"tanh\\((.*?)\\)\" => var\"#254#267\"()"
      ]
     },
     "execution_count": 402,
     "metadata": {},
     "output_type": "execute_result"
    }
   ],
   "source": [
    "stringsub = [r\"exp\\((.*?)\\)\" => x -> \"e^{\" * x[5:end-1] * \"} \", \n",
    "    r\"exp\\((.*?)\\)\" => x -> \"e^{\" * x[5:end-1] * \"} \", \n",
    "    r\"^D\\(\\s*(.+)\\s*,\\s*(.+)\\s*,\\s*(\\d+)\\s*\\)$\" => x -> PartialDstr(string(x)),\n",
    "    r\"sqrt\\((.*?)\\)\" => x -> \"\\\\sqrt{\" * x[6:end-1] * \"} \",\n",
    "    r\"cos\\((.*?)\\)\" => x -> \"\\\\cos{\\\\left(\" * x[5:end-1] * \"\\\\right)} \",\n",
    "    r\"sin\\((.*?)\\)\" => x -> \"\\\\sin{\\\\left(\" * x[5:end-1] * \"\\\\right)} \",\n",
    "    r\"tan\\((.*?)\\)\" => x -> \"\\\\tan{\\\\left(\" * x[5:end-1] * \"\\\\right)} \",\n",
    "    r\"acos\\((.*?)\\)\" => x -> \"\\\\acos{\\\\left(\" * x[6:end-1] * \"\\\\right)} \",\n",
    "    r\"asin\\((.*?)\\)\" => x -> \"\\\\asin{\\\\left(\" * x[6:end-1] * \"\\\\right)} \",\n",
    "    r\"atan\\((.*?)\\)\" => x -> \"\\\\atan{\\\\left(\" * x[6:end-1] * \"\\\\right)} \",\n",
    "    r\"cosh\\((.*?)\\)\" => x -> \"\\\\cosh{\\\\left(\" * x[6:end-1] * \"\\\\right)} \",\n",
    "    r\"sinh\\((.*?)\\)\" => x -> \"\\\\sinh{\\\\left(\" * x[6:end-1] * \"\\\\right)} \",\n",
    "    r\"tanh\\((.*?)\\)\" => x -> \"\\\\tanh{\\\\left(\" * x[6:end-1] * \"\\\\right)} \"\n",
    "    ]"
   ]
  },
  {
   "cell_type": "markdown",
   "id": "2816fe23-1a2c-417a-8d7d-b16f41236088",
   "metadata": {},
   "source": [
    "## Playing around with Latex Display"
   ]
  },
  {
   "cell_type": "markdown",
   "id": "a127ffc6-e6b1-436c-ab98-4dcd7d773924",
   "metadata": {},
   "source": [
    "These Latex functions seem to work for the most part but fail in some cases"
   ]
  },
  {
   "cell_type": "code",
   "execution_count": 403,
   "id": "9cc35ee7-32a8-44b1-8152-1ddb70fa62d7",
   "metadata": {},
   "outputs": [
    {
     "name": "stdout",
     "output_type": "stream",
     "text": [
      "D(x, x, 1)\n"
     ]
    },
    {
     "data": {
      "text/latex": [
       "$\\frac{\\partial}{\\partial x} \\left(x\\right) = 1$"
      ],
      "text/plain": [
       "L\"$\\frac{\\partial}{\\partial x} \\left(x\\right) = 1$\""
      ]
     },
     "metadata": {},
     "output_type": "display_data"
    },
    {
     "name": "stdout",
     "output_type": "stream",
     "text": [
      "D(x^2, x, 1)\n"
     ]
    },
    {
     "data": {
      "text/latex": [
       "$\\frac{\\partial}{\\partial x} \\left(x^2\\right) = 2x$"
      ],
      "text/plain": [
       "L\"$\\frac{\\partial}{\\partial x} \\left(x^2\\right) = 2x$\""
      ]
     },
     "metadata": {},
     "output_type": "display_data"
    },
    {
     "name": "stdout",
     "output_type": "stream",
     "text": [
      "D(x*y, x, 1)\n"
     ]
    },
    {
     "data": {
      "text/latex": [
       "$\\frac{\\partial}{\\partial x} \\left(x*y\\right) = y$"
      ],
      "text/plain": [
       "L\"$\\frac{\\partial}{\\partial x} \\left(x*y\\right) = y$\""
      ]
     },
     "metadata": {},
     "output_type": "display_data"
    },
    {
     "name": "stdout",
     "output_type": "stream",
     "text": [
      "D(x / y, x, 1)\n"
     ]
    },
    {
     "data": {
      "text/latex": [
       "$\\frac{\\partial}{\\partial x} \\left(x / y\\right) = 1 / y$"
      ],
      "text/plain": [
       "L\"$\\frac{\\partial}{\\partial x} \\left(x / y\\right) = 1 / y$\""
      ]
     },
     "metadata": {},
     "output_type": "display_data"
    },
    {
     "name": "stdout",
     "output_type": "stream",
     "text": [
      "D(sqrt(x), x, 1)\n"
     ]
    },
    {
     "data": {
      "text/latex": [
       "$\\frac{\\partial}{\\partial x} \\left(\\sqrt{x} \\right) = 1 / (2\\sqrt{x} )$"
      ],
      "text/plain": [
       "L\"$\\frac{\\partial}{\\partial x} \\left(\\sqrt{x} \\right) = 1 / (2\\sqrt{x} )$\""
      ]
     },
     "metadata": {},
     "output_type": "display_data"
    },
    {
     "name": "stdout",
     "output_type": "stream",
     "text": [
      "D(e^{x} , x, 1)\n"
     ]
    },
    {
     "data": {
      "text/latex": [
       "$\\frac{\\partial}{\\partial x} \\left(e^{x} \\right) = e^{x} $"
      ],
      "text/plain": [
       "L\"$\\frac{\\partial}{\\partial x} \\left(e^{x} \\right) = e^{x} $\""
      ]
     },
     "metadata": {},
     "output_type": "display_data"
    },
    {
     "name": "stdout",
     "output_type": "stream",
     "text": [
      "D(log(x), x, 1)\n"
     ]
    },
    {
     "data": {
      "text/latex": [
       "$\\frac{\\partial}{\\partial x} \\left(log(x)\\right) = 1 / x$"
      ],
      "text/plain": [
       "L\"$\\frac{\\partial}{\\partial x} \\left(log(x)\\right) = 1 / x$\""
      ]
     },
     "metadata": {},
     "output_type": "display_data"
    },
    {
     "name": "stdout",
     "output_type": "stream",
     "text": [
      "D(cos(x), x, 1)\n"
     ]
    },
    {
     "data": {
      "text/latex": [
       "$\\frac{\\partial}{\\partial x} \\left(\\cos{\\left(x\\right)} \\right) = -\\sin{\\left(x\\right)} $"
      ],
      "text/plain": [
       "L\"$\\frac{\\partial}{\\partial x} \\left(\\cos{\\left(x\\right)} \\right) = -\\sin{\\left(x\\right)} $\""
      ]
     },
     "metadata": {},
     "output_type": "display_data"
    },
    {
     "name": "stdout",
     "output_type": "stream",
     "text": [
      "D(sin(x), x, 1)\n"
     ]
    },
    {
     "data": {
      "text/latex": [
       "$\\frac{\\partial}{\\partial x} \\left(\\sin{\\left(x\\right)} \\right) = \\cos{\\left(x\\right)} $"
      ],
      "text/plain": [
       "L\"$\\frac{\\partial}{\\partial x} \\left(\\sin{\\left(x\\right)} \\right) = \\cos{\\left(x\\right)} $\""
      ]
     },
     "metadata": {},
     "output_type": "display_data"
    },
    {
     "name": "stdout",
     "output_type": "stream",
     "text": [
      "D(tan(x), x, 1)\n"
     ]
    },
    {
     "data": {
      "text/latex": [
       "$\\frac{\\partial}{\\partial x} \\left(\\tan{\\left(x\\right)} \\right) = 1 / (\\cos{\\left(x\\right)} ^2)$"
      ],
      "text/plain": [
       "L\"$\\frac{\\partial}{\\partial x} \\left(\\tan{\\left(x\\right)} \\right) = 1 / (\\cos{\\left(x\\right)} ^2)$\""
      ]
     },
     "metadata": {},
     "output_type": "display_data"
    },
    {
     "name": "stdout",
     "output_type": "stream",
     "text": [
      "D(acos(x), x, 1)\n"
     ]
    },
    {
     "data": {
      "text/latex": [
       "$\\frac{\\partial}{\\partial x} \\left(a\\cos{\\left(x\\right)} \\right) = -1 / \\sqrt{1 - (x^2} )$"
      ],
      "text/plain": [
       "L\"$\\frac{\\partial}{\\partial x} \\left(a\\cos{\\left(x\\right)} \\right) = -1 / \\sqrt{1 - (x^2} )$\""
      ]
     },
     "metadata": {},
     "output_type": "display_data"
    },
    {
     "name": "stdout",
     "output_type": "stream",
     "text": [
      "D(asin(x), x, 1)\n"
     ]
    },
    {
     "data": {
      "text/latex": [
       "$\\frac{\\partial}{\\partial x} \\left(a\\sin{\\left(x\\right)} \\right) = 1 / \\sqrt{1 - (x^2} )$"
      ],
      "text/plain": [
       "L\"$\\frac{\\partial}{\\partial x} \\left(a\\sin{\\left(x\\right)} \\right) = 1 / \\sqrt{1 - (x^2} )$\""
      ]
     },
     "metadata": {},
     "output_type": "display_data"
    },
    {
     "name": "stdout",
     "output_type": "stream",
     "text": [
      "D(atan(x), x, 1)\n"
     ]
    },
    {
     "data": {
      "text/latex": [
       "$\\frac{\\partial}{\\partial x} \\left(a\\tan{\\left(x\\right)} \\right) = 1 / (1 + x^2)$"
      ],
      "text/plain": [
       "L\"$\\frac{\\partial}{\\partial x} \\left(a\\tan{\\left(x\\right)} \\right) = 1 / (1 + x^2)$\""
      ]
     },
     "metadata": {},
     "output_type": "display_data"
    },
    {
     "name": "stdout",
     "output_type": "stream",
     "text": [
      "D(cosh(x), x, 1)\n"
     ]
    },
    {
     "data": {
      "text/latex": [
       "$\\frac{\\partial}{\\partial x} \\left(\\cosh{\\left(x\\right)} \\right) = \\sinh{\\left(x\\right)} $"
      ],
      "text/plain": [
       "L\"$\\frac{\\partial}{\\partial x} \\left(\\cosh{\\left(x\\right)} \\right) = \\sinh{\\left(x\\right)} $\""
      ]
     },
     "metadata": {},
     "output_type": "display_data"
    },
    {
     "name": "stdout",
     "output_type": "stream",
     "text": [
      "D(sinh(x), x, 1)\n"
     ]
    },
    {
     "data": {
      "text/latex": [
       "$\\frac{\\partial}{\\partial x} \\left(\\sinh{\\left(x\\right)} \\right) = \\cosh{\\left(x\\right)} $"
      ],
      "text/plain": [
       "L\"$\\frac{\\partial}{\\partial x} \\left(\\sinh{\\left(x\\right)} \\right) = \\cosh{\\left(x\\right)} $\""
      ]
     },
     "metadata": {},
     "output_type": "display_data"
    },
    {
     "name": "stdout",
     "output_type": "stream",
     "text": [
      "D(tanh(x), x, 1)\n"
     ]
    },
    {
     "data": {
      "text/latex": [
       "$\\frac{\\partial}{\\partial x} \\left(\\tanh{\\left(x\\right)} \\right) = 1 / (\\cosh{\\left(x\\right)} ^2)$"
      ],
      "text/plain": [
       "L\"$\\frac{\\partial}{\\partial x} \\left(\\tanh{\\left(x\\right)} \\right) = 1 / (\\cosh{\\left(x\\right)} ^2)$\""
      ]
     },
     "metadata": {},
     "output_type": "display_data"
    },
    {
     "name": "stdout",
     "output_type": "stream",
     "text": [
      "D(acosh(x), x, 1)\n"
     ]
    },
    {
     "data": {
      "text/latex": [
       "$\\frac{\\partial}{\\partial x} \\left(a\\cosh{\\left(x\\right)} \\right) = 1 / \\sqrt{-1 + x^2} $"
      ],
      "text/plain": [
       "L\"$\\frac{\\partial}{\\partial x} \\left(a\\cosh{\\left(x\\right)} \\right) = 1 / \\sqrt{-1 + x^2} $\""
      ]
     },
     "metadata": {},
     "output_type": "display_data"
    },
    {
     "name": "stdout",
     "output_type": "stream",
     "text": [
      "D(asinh(x), x, 1)\n"
     ]
    },
    {
     "data": {
      "text/latex": [
       "$\\frac{\\partial}{\\partial x} \\left(a\\sinh{\\left(x\\right)} \\right) = 1 / \\sqrt{1 + x^2} $"
      ],
      "text/plain": [
       "L\"$\\frac{\\partial}{\\partial x} \\left(a\\sinh{\\left(x\\right)} \\right) = 1 / \\sqrt{1 + x^2} $\""
      ]
     },
     "metadata": {},
     "output_type": "display_data"
    },
    {
     "name": "stdout",
     "output_type": "stream",
     "text": [
      "D(atanh(x), x, 1)\n"
     ]
    },
    {
     "data": {
      "text/latex": [
       "$\\frac{\\partial}{\\partial x} \\left(a\\tanh{\\left(x\\right)} \\right) = 1 / (1 - (x^2))$"
      ],
      "text/plain": [
       "L\"$\\frac{\\partial}{\\partial x} \\left(a\\tanh{\\left(x\\right)} \\right) = 1 / (1 - (x^2))$\""
      ]
     },
     "metadata": {},
     "output_type": "display_data"
    }
   ],
   "source": [
    "for ff in basicfuncs\n",
    "    lstr = StringtoLatex(Diff(ff,x); stringsub);\n",
    "    dlstr = StringtoLatex((D(ff,x,1));stringsub);\n",
    "    flstr = string(dlstr,\" = \",lstr);\n",
    "    # latexify(lstr)\n",
    "    display(latexstring(flstr));\n",
    "\n",
    "end"
   ]
  },
  {
   "cell_type": "markdown",
   "id": "d4252fe6-0ae8-4158-b8e8-c521aa5db485",
   "metadata": {},
   "source": [
    "## Symbolic Functions"
   ]
  },
  {
   "cell_type": "code",
   "execution_count": 404,
   "id": "445331f3-74b5-4cd4-9ca9-c71ebe4cf031",
   "metadata": {},
   "outputs": [
    {
     "data": {
      "text/plain": [
       "5-element Vector{SymbolicUtils.BasicSymbolic{Number}}:\n",
       " f(x)\n",
       " g(x, y)\n",
       " h(x, y, z)\n",
       " f(g(x, y))\n",
       " f(x) + f(g(x, y)) + z^2"
      ]
     },
     "execution_count": 404,
     "metadata": {},
     "output_type": "execute_result"
    }
   ],
   "source": [
    "fx = f(x)\n",
    "gxy = g(x,y)\n",
    "hxyz = h(x,y,z)\n",
    "fgxy = f(gxy)\n",
    "expr = fgxy + z^2 + fx\n",
    "\n",
    "functests = [fx, gxy, hxyz, fgxy, expr]"
   ]
  },
  {
   "cell_type": "code",
   "execution_count": 405,
   "id": "4079ca84-10d6-4bb2-ab7c-bd28d9291a4c",
   "metadata": {},
   "outputs": [
    {
     "name": "stdout",
     "output_type": "stream",
     "text": [
      "d/dy f(x) = 0\n",
      "(x, y) = D(g(x, y), y, 1)\n",
      "d/dy h(x, y, z) = D(h(x, y, z), y, 1)\n",
      "d/dy f(g(x, y)) = D(f(g(x, y)), g(x, y), 1)*D(g(x, y), y, 1)\n",
      "f(x) + f(g(x, y)) + z^2 = D(f(g(x, y)), g(x, y), 1)*D(g(x, y), y, 1)\n"
     ]
    }
   ],
   "source": [
    "for ff in functests\n",
    "\n",
    "    println(\"d/dy \",ff, \" = \",Diff(ff,y))\n",
    "\n",
    "end"
   ]
  },
  {
   "cell_type": "code",
   "execution_count": 406,
   "id": "9095d1e2-a1d0-4d13-9eae-c865e21dc8bd",
   "metadata": {},
   "outputs": [
    {
     "name": "stdout",
     "output_type": "stream",
     "text": [
      "d/dz f(x) = 0\n",
      "d/dz g(x, y) = 0\n",
      "d/dz h(x, y, z) = D(h(x, y, z), z, 1)\n",
      "d/dz f(g(x, y)) = 0\n",
      "d/dz f(x) + f(g(x, y)) + z^2 = 2z\n"
     ]
    }
   ],
   "source": [
    "for ff in functests\n",
    "\n",
    "    println(\"d/dz \",ff, \" = \",Diff(ff,z))\n",
    "\n",
    "end"
   ]
  },
  {
   "cell_type": "code",
   "execution_count": 407,
   "id": "037c5168-0eed-45c9-abbc-ef5133886e9a",
   "metadata": {},
   "outputs": [
    {
     "data": {
      "text/plain": [
       "D(f(x), x, 2)"
      ]
     },
     "execution_count": 407,
     "metadata": {},
     "output_type": "execute_result"
    }
   ],
   "source": [
    "Diff(fx,[x,2])"
   ]
  },
  {
   "cell_type": "markdown",
   "id": "0d6fd4d8-e371-40a9-a852-a1d33953fa8e",
   "metadata": {},
   "source": [
    "## nth order derivatives"
   ]
  },
  {
   "cell_type": "code",
   "execution_count": 408,
   "id": "c8c1d190-a1cb-4064-868e-b8b60f47c40c",
   "metadata": {},
   "outputs": [
    {
     "data": {
      "text/plain": [
       "7-element Vector{SymbolicUtils.BasicSymbolic{Number}}:\n",
       " x^2\n",
       " x^3\n",
       " f(x) + f(g(x, y)) + z^2\n",
       " cos(y) + f(x) + h(x, y, z)^2\n",
       " log(x*f(x))\n",
       " exp(-x*f(x))\n",
       " exp(g(x, y) + x*z)"
      ]
     },
     "execution_count": 408,
     "metadata": {},
     "output_type": "execute_result"
    }
   ],
   "source": [
    "expr0 = x^2\n",
    "expr1 = x^3\n",
    "expr2 = fgxy + z^2 + fx\n",
    "expr3 = fx + hxyz^2 + cos(y)\n",
    "expr4 = log(x*fx)\n",
    "expr5 = exp(-x*fx)\n",
    "expr6 = exp(x*z + gxy)\n",
    "\n",
    "exprtests = [expr0, expr1, expr2, expr3, expr4, expr5, expr6]"
   ]
  },
  {
   "cell_type": "code",
   "execution_count": 409,
   "id": "f903c390-8239-4568-9d0a-bb8b606fefc0",
   "metadata": {},
   "outputs": [
    {
     "name": "stdout",
     "output_type": "stream",
     "text": [
      "d2/dx2 x^2 = 2\n",
      "d2/dx2 x^3 = 6x\n",
      "f(x) + f(g(x, y)) + z^2 = D(f(x), x, 2) + D(f(g(x, y)), g(x, y), 1)*D(g(x, y), x, 2) + (D(g(x, y), x, 1)^2)*D(f(g(x, y)), g(x, y), 2)\n",
      "d2/dx2 cos(y) + f(x) + h(x, y, z)^2 = D(f(x), x, 2) + 2(D(h(x, y, z), x, 1)^2) + 2D(h(x, y, z), x, 2)*h(x, y, z)\n",
      "d2/dx2 log(x*f(x)) = (-(f(x)^2) - (x^2)*(D(f(x), x, 1)^2) + (x^2)*D(f(x), x, 2)*f(x)) / ((x^2)*(f(x)^2))\n",
      "d2/dx2 exp(-x*f(x)) = (-2D(f(x), x, 1) - x*D(f(x), x, 2))*exp(-x*f(x)) + ((-f(x) - x*D(f(x), x, 1))^2)*exp(-x*f(x))\n",
      "exp(g(x, y) + x*z) = (D(g(x, y), x, 2) + (z + D(g(x, y), x, 1))^2)*exp(g(x, y) + x*z)\n"
     ]
    }
   ],
   "source": [
    "for ff in exprtests\n",
    "    # println(ff)\n",
    "    println(\"d2/dx2 \",ff, \" = \",Diff(ff,[x,2]))\n",
    "\n",
    "end"
   ]
  },
  {
   "cell_type": "code",
   "execution_count": 410,
   "id": "f29310ad-78f0-4411-8ab8-ccb4912810f3",
   "metadata": {},
   "outputs": [
    {
     "name": "stdout",
     "output_type": "stream",
     "text": [
      "d2/dxdy x^2 = 0\n",
      "d2/dxdy x^3 = 0\n",
      "d2/dxdy f(x) + f(g(x, y)) + z^2 = D(g(x, y), x, 1)*D(f(g(x, y)), g(x, y), 2)*D(g(x, y), y, 1)\n",
      "d2/dxdy cos(y) + f(x) + h(x, y, z)^2 = 2D(h(x, y, z), y, 1)*D(h(x, y, z), x, 1)\n",
      "d2/dxdy log(x*f(x)) = 0\n",
      "d2/dxdy exp(-x*f(x)) = 0\n",
      "(g(x, y) + x*z) = (z + D(g(x, y), x, 1))*exp(g(x, y) + x*z)*D(g(x, y), y, 1)\n"
     ]
    }
   ],
   "source": [
    "for ff in exprtests\n",
    "    # println(ff)\n",
    "    println(\"d2/dxdy \",ff, \" = \",Diff(ff,[x,1],[y,1]))\n",
    "\n",
    "end"
   ]
  },
  {
   "cell_type": "markdown",
   "id": "4fbad00f-cae7-43cf-889c-d48db3f6f7ee",
   "metadata": {},
   "source": [
    "# Integration"
   ]
  },
  {
   "cell_type": "markdown",
   "id": "73f615e8-7709-4b4e-9f81-436012947e10",
   "metadata": {},
   "source": [
    "Below `Integ` and `integrate` are functions to do symbolic integration. \n",
    "\n",
    "The unevaluated integral is `It(..,..)` where the first argument is the expresion to be integrated and the second is the variable of integration. As opposed to `D(..,..,..)`, integrals will have no \"order\" and instead will be nested. "
   ]
  },
  {
   "cell_type": "code",
   "execution_count": 411,
   "id": "221373b3-4bd0-485c-b17d-24ce0039b8f3",
   "metadata": {},
   "outputs": [
    {
     "data": {
      "text/plain": [
       "Integ"
      ]
     },
     "execution_count": 411,
     "metadata": {},
     "output_type": "execute_result"
    }
   ],
   "source": [
    "# Declare the unevaluated integral operator It.\n",
    "@syms It(.., ..)\n",
    "\n",
    "#############################\n",
    "# Integration (Core)        #\n",
    "#############################\n",
    "\n",
    "\"\"\"\n",
    "    integrate(expr, dvar)\n",
    "\n",
    "Computes the antiderivative (indefinite integral) of the symbolic expression `expr`\n",
    "with respect to the variable `dvar`. When a known antiderivative rule applies,\n",
    "the result is fully evaluated; otherwise, the result is returned unevaluated\n",
    "as It(expr, dvar).\n",
    "\"\"\"\n",
    "function integrate(expr, dvar)\n",
    "    # Check that inputs are symbolic.\n",
    "    if !is_symbolic_entity(expr)\n",
    "        error(\"First argument $(expr) is not symbolic.\")\n",
    "    elseif !is_symbolic_entity(dvar)\n",
    "        error(\"Second argument $(dvar) is not symbolic.\")\n",
    "    end\n",
    "\n",
    "    # If expr does not depend on dvar, then ∫ expr dx = expr * dvar.\n",
    "    if expr isa Number || !sym_occurs_in(expr, dvar)\n",
    "        return expr * dvar\n",
    "    end\n",
    "\n",
    "    # If expr is exactly dvar, then ∫ dvar dx = dvar^2/2.\n",
    "    if sym_equiv(expr, dvar)\n",
    "        return SymbolicUtils.pow(dvar, 2) / 2\n",
    "    end\n",
    "\n",
    "    # Linearity: ∫ (f + g) dx = ∫ f dx + ∫ g dx.\n",
    "    if SymbolicUtils.isadd(expr)\n",
    "        new_args = map(arg -> integrate(arg, dvar), expr.arguments)\n",
    "        return reduce(+, new_args)\n",
    "    end\n",
    "\n",
    "    # Constant factor extraction for products:\n",
    "    if SymbolicUtils.ismul(expr)\n",
    "        const_factors = []\n",
    "        var_factors = []\n",
    "        for f in expr.arguments\n",
    "            if !sym_occurs_in(f, dvar)\n",
    "                push!(const_factors, f)\n",
    "            else\n",
    "                push!(var_factors, f)\n",
    "            end\n",
    "        end\n",
    "        if !isempty(const_factors) && length(var_factors) == 1\n",
    "            constant_part = reduce(*, const_factors)\n",
    "            return constant_part * integrate(var_factors[1], dvar)\n",
    "        end\n",
    "        return It(expr, dvar)\n",
    "    end\n",
    "\n",
    "    # Power rule: if expr = dvar^n and n ≠ -1.\n",
    "    if SymbolicUtils.ispow(expr)\n",
    "        base, exponent = expr.arguments\n",
    "        if sym_equiv(base, dvar) && exponent isa Number && exponent != -1\n",
    "            return SymbolicUtils.pow(dvar, exponent + 1) / (exponent + 1)\n",
    "        else\n",
    "            return It(expr, dvar)\n",
    "        end\n",
    "    end\n",
    "\n",
    "    # Known common functions (when the argument is exactly dvar):\n",
    "    if SymbolicUtils.isterm(expr) && length(expr.arguments) == 1\n",
    "        u = expr.arguments[1]\n",
    "        if sym_equiv(u, dvar)\n",
    "            if expr.f == sin\n",
    "                # ∫ sin(x) dx = -cos(x)\n",
    "                return -SymbolicUtils.cos(dvar)\n",
    "            elseif expr.f == cos\n",
    "                # ∫ cos(x) dx = sin(x)\n",
    "                return SymbolicUtils.sin(dvar)\n",
    "            elseif expr.f == tan\n",
    "                # ∫ tan(x) dx = -log(|cos(x)|) (ignoring absolute value)\n",
    "                return -SymbolicUtils.log(SymbolicUtils.cos(dvar))\n",
    "            elseif expr.f == asin\n",
    "                # ∫ asin(x) dx = x*asin(x) + sqrt(1-x^2)\n",
    "                return dvar * expr + SymbolicUtils.sqrt(1 - SymbolicUtils.pow(dvar, 2))\n",
    "            elseif expr.f == acos\n",
    "                # ∫ acos(x) dx = x*acos(x) - sqrt(1-x^2)\n",
    "                return dvar * expr - SymbolicUtils.sqrt(1 - SymbolicUtils.pow(dvar, 2))\n",
    "            elseif expr.f == atan\n",
    "                # ∫ atan(x) dx = x*atan(x) - 1/2 log(1+x^2)\n",
    "                return dvar * expr - (1/2) * SymbolicUtils.log(1 + SymbolicUtils.pow(dvar, 2))\n",
    "            elseif expr.f == sinh\n",
    "                # ∫ sinh(x) dx = cosh(x)\n",
    "                return SymbolicUtils.cosh(dvar)\n",
    "            elseif expr.f == cosh\n",
    "                # ∫ cosh(x) dx = sinh(x)\n",
    "                return SymbolicUtils.sinh(dvar)\n",
    "            elseif expr.f == tanh\n",
    "                # ∫ tanh(x) dx = log(cosh(x))\n",
    "                return SymbolicUtils.log(SymbolicUtils.cosh(dvar))\n",
    "            elseif expr.f == asinh\n",
    "                # ∫ asinh(x) dx = x*asinh(x) - sqrt(1+x^2)\n",
    "                return dvar * expr - SymbolicUtils.sqrt(1 + SymbolicUtils.pow(dvar, 2))\n",
    "            elseif expr.f == acosh\n",
    "                # ∫ acosh(x) dx = x*acosh(x) - sqrt(x^2-1)\n",
    "                return dvar * expr - SymbolicUtils.sqrt(SymbolicUtils.pow(dvar, 2) - 1)\n",
    "            elseif expr.f == atanh\n",
    "                # ∫ atanh(x) dx = x*atanh(x) + 1/2 log(1-x^2)\n",
    "                return dvar * expr + (1/2) * SymbolicUtils.log(1 - SymbolicUtils.pow(dvar, 2))\n",
    "            else\n",
    "                return It(expr, dvar)\n",
    "            end\n",
    "        else\n",
    "            return It(expr, dvar)\n",
    "        end\n",
    "    end\n",
    "\n",
    "    # For any other case (including unknown functions), return the unevaluated integral.\n",
    "    return It(expr, dvar)\n",
    "end\n",
    "\n",
    "##############################\n",
    "# Int (High-Level Function)  #\n",
    "##############################\n",
    "\n",
    "# For integration instructions, we expect each to be either a symbolic variable/expression or\n",
    "# a single-element vector [dvar].\n",
    "function process_iv(e, dv)\n",
    "    if dv isa AbstractVector\n",
    "        if length(dv) == 1\n",
    "            dvar = dv[1]\n",
    "            return integrate(e, dvar)\n",
    "        else\n",
    "            error(\"Invalid vector format for integration. Expected [dvar].\")\n",
    "        end\n",
    "    else\n",
    "        return integrate(e, dv)\n",
    "    end\n",
    "end\n",
    "\n",
    "\"\"\"\n",
    "    Int(expr, dvars...)\n",
    "\n",
    "Computes the iterated integral of the symbolic expression `expr` with respect to\n",
    "one or more variables. If a known integration rule applies, the antiderivative is fully\n",
    "evaluated; otherwise, the result is left unevaluated as It(expr, dvar).\n",
    "\"\"\"\n",
    "function Integ(expr, dvars...)\n",
    "    if !contains_symbolic_entity(expr)\n",
    "        error(\"Expected first argument expr to contain a SymbolicUtils entity.\")\n",
    "    end\n",
    "    if length(dvars) == 0\n",
    "        return expr\n",
    "    end\n",
    "    res = expr\n",
    "    if length(dvars) == 1\n",
    "        res = process_iv(res, dvars[1])\n",
    "    else\n",
    "        for dv in dvars\n",
    "            res = process_iv(res, dv)\n",
    "        end\n",
    "    end\n",
    "    return res\n",
    "end\n"
   ]
  },
  {
   "cell_type": "markdown",
   "id": "92c6cf60-7588-4479-9324-1fa89d355d04",
   "metadata": {},
   "source": [
    "## Basic Functions"
   ]
  },
  {
   "cell_type": "code",
   "execution_count": 412,
   "id": "34664ee9-b396-4b8b-8156-789ebeb9ae94",
   "metadata": {},
   "outputs": [
    {
     "name": "stdout",
     "output_type": "stream",
     "text": [
      "Int( x dx) = (1//2)*(x^2)\n",
      "Int( x^2 dx) = (1//3)*(x^3)\n",
      "Int( x*y dx) = (1//2)*(x^2)*y\n",
      "Int( x / y dx) = It(x / y, x)\n",
      "Int( sqrt(x) dx) = It(sqrt(x), x)\n",
      "Int( exp(x) dx) = It(exp(x), x)\n",
      "Int( log(x) dx) = It(log(x), x)\n",
      "Int( cos(x) dx) = sin(x)\n",
      "Int( sin(x) dx) = -cos(x)\n",
      "Int( tan(x) dx) = -log(cos(x))\n",
      "Int( acos(x) dx) = -sqrt(1 - (x^2)) + x*acos(x)\n",
      "Int( asin(x) dx) = sqrt(1 - (x^2)) + x*asin(x)\n",
      "Int( atan(x) dx) = -0.5log(1 + x^2) + x*atan(x)\n",
      "Int( cosh(x) dx) = sinh(x)\n",
      "Int( sinh(x) dx) = cosh(x)\n",
      "Int( tanh(x) dx) = log(cosh(x))\n",
      "Int( acosh(x) dx) = -sqrt(-1 + x^2) + x*acosh(x)\n",
      "Int( asinh(x) dx) = -sqrt(1 + x^2) + x*asinh(x)\n",
      "Int( atanh(x) dx) = 0.5log(1 - (x^2)) + x*atanh(x)\n"
     ]
    }
   ],
   "source": [
    "for ff in basicfuncs\n",
    "\n",
    "    println(\"Int( \",ff, \" dx) = \",Integ(ff,x))\n",
    "\n",
    "end"
   ]
  },
  {
   "cell_type": "markdown",
   "id": "8ec18046-4805-4fcb-afef-1a9ab9449b15",
   "metadata": {},
   "source": [
    "## Symbolic Functions"
   ]
  },
  {
   "cell_type": "code",
   "execution_count": 424,
   "id": "2a107a62-e10e-4528-a276-0eec3fefeca5",
   "metadata": {},
   "outputs": [
    {
     "name": "stdout",
     "output_type": "stream",
     "text": [
      "Int( x^2 dx ) = (1//3)*(x^3)\n",
      "Int( x^3 dx ) = (1//4)*(x^4)\n",
      "Int( f(x) + f(g(x, y)) + z^2 dx ) = It(f(g(x, y)), x) + It(f(x), x) + x*(z^2)\n",
      "Int( cos(y) + f(x) + h(x, y, z)^2 dx ) = It(h(x, y, z)^2, x) + It(f(x), x) + x*cos(y)\n",
      "Int( log(x*f(x)) dx ) = It(log(x*f(x)), x)\n",
      "Int( exp(-x*f(x)) dx ) = It(exp(-x*f(x)), x)\n",
      "Int( exp(g(x, y) + x*z) dx ) = It(exp(g(x, y) + x*z), x)\n"
     ]
    }
   ],
   "source": [
    "for ff in exprtests\n",
    "\n",
    "    println(\"Int( \",ff, \" dx ) = \",Integ(ff,x))\n",
    "\n",
    "end"
   ]
  }
 ],
 "metadata": {
  "kernelspec": {
   "display_name": "Julia (6 threads) 1.11.3",
   "language": "julia",
   "name": "julia-_6-threads_-1.11"
  },
  "language_info": {
   "file_extension": ".jl",
   "mimetype": "application/julia",
   "name": "julia",
   "version": "1.11.3"
  }
 },
 "nbformat": 4,
 "nbformat_minor": 5
}
